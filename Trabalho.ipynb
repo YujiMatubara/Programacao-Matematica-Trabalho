{
 "cells": [
  {
   "cell_type": "markdown",
   "metadata": {},
   "source": [
    "1. Escrever o modelo do problema utilizando linguagem de modelagem."
   ]
  },
  {
   "cell_type": "code",
   "execution_count": 10,
   "metadata": {},
   "outputs": [
    {
     "name": "stdout",
     "output_type": "stream",
     "text": [
      "./Casos de Teste/insta/inst_1_100.txt     0   1   2   3   4   5   6   7   8   9   ...  90  91  92  93  94  95  96  \\\n",
      "0    1   1   1   1   1   1   1   1   1   1  ...   1   1   1   1   1   1   1   \n",
      "1    1   1   1   1   1   1   1   1   1   1  ...   1   1   1   1   1   1   1   \n",
      "2    1   1   1   1   1   1   1   1   1   1  ...   1   1   1   1   1   1   1   \n",
      "3    1   1   1   1   1   1   1   1   1   1  ...   1   1   1   1   1   1   1   \n",
      "4    1   1   1   1   1   1   1   1   1   1  ...   1   1   1   1   1   1   1   \n",
      "..  ..  ..  ..  ..  ..  ..  ..  ..  ..  ..  ...  ..  ..  ..  ..  ..  ..  ..   \n",
      "95   1   1   1   1   1   1   1   1   1   1  ...   1   1   1   1   1   1   1   \n",
      "96   1   1   1   1   1   1   1   1   1   1  ...   1   1   1   1   1   1   1   \n",
      "97   1   1   1   1   1   1   1   1   1   1  ...   1   1   1   1   1   1   1   \n",
      "98   1   1   1   1   1   1   1   1   1   1  ...   1   1   1   1   1   1   1   \n",
      "99   1   1   1   1   1   1   1   1   1   1  ...   1   1   1   1   1   1   1   \n",
      "\n",
      "    97  98  99  \n",
      "0    1   1   1  \n",
      "1    1   1   1  \n",
      "2    1   1   1  \n",
      "3    1   1   1  \n",
      "4    1   1   1  \n",
      "..  ..  ..  ..  \n",
      "95   1   1   1  \n",
      "96   1   1   1  \n",
      "97   1   1   1  \n",
      "98   1   1   1  \n",
      "99   1   1   1  \n",
      "\n",
      "[100 rows x 100 columns]\n"
     ]
    },
    {
     "name": "stderr",
     "output_type": "stream",
     "text": [
      "/home/yuji/.local/lib/python3.8/site-packages/pulp/pulp.py:1313: UserWarning: Spaces are not permitted in the name. Converted to '_'\n",
      "  warnings.warn(\"Spaces are not permitted in the name. Converted to '_'\")\n"
     ]
    }
   ],
   "source": [
    "from pulp import *\n",
    "import pandas as pd\n",
    "\n",
    "#informado no problema\n",
    "n = 5\n",
    "\n",
    "#criando o problema pelo metodo LP do PuLP\n",
    "problem = LpProblem(\"Problema de Designacao\", LpMaximize)\n",
    "\n",
    "#colocar o caminho dos arquivos de entrada do seu dispositivo\n",
    "path = \"./Casos de Teste/insta/\"\n",
    "\n",
    "#pega os nomes dos arquivos do diretorio path\n",
    "filename = os.listdir(path)\n",
    "\n",
    "#ordena pelo nome dos arquivos\n",
    "filename.sort()\n",
    "\n",
    "for i in range(len(filename)):\n",
    "    path_dir = os.path.join(path, filename[i])\n",
    "    data = pd.read_csv(path_dir, sep = \" \", header = None) #cria uma matriz dos valores lidos do .txt\n",
    "    data.drop(data.columns[data.shape[1] - 1], axis = 1, inplace = True)    #o shape acessa em [1] o quantidade em colunas, drop retira a coluna passada no parametros\n",
    "    print(path_dir, data)\n",
    "\n",
    "#resolver pelo metodo solver CBC\n",
    "#resolver CPLEX ou GUROBI\n",
    "#resolver Hungaro\n",
    "\n"
   ]
  }
 ],
 "metadata": {
  "kernelspec": {
   "display_name": "Python 3",
   "language": "python",
   "name": "python3"
  },
  "language_info": {
   "codemirror_mode": {
    "name": "ipython",
    "version": 3
   },
   "file_extension": ".py",
   "mimetype": "text/x-python",
   "name": "python",
   "nbconvert_exporter": "python",
   "pygments_lexer": "ipython3",
   "version": "3.8.10"
  },
  "orig_nbformat": 2
 },
 "nbformat": 4,
 "nbformat_minor": 2
}